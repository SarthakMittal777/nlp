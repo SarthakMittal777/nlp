{
 "cells": [
  {
   "cell_type": "code",
   "execution_count": 54,
   "metadata": {},
   "outputs": [],
   "source": [
    "import requests \n",
    "from bs4 import BeautifulSoup "
   ]
  },
  {
   "cell_type": "code",
   "execution_count": 55,
   "metadata": {},
   "outputs": [
    {
     "name": "stdout",
     "output_type": "stream",
     "text": [
      "['Columbia quality is the best in sports brands', 'I would not recommend this product for winters.', 'Somewhat small', 'Good', \"I normally wear size L and this size L fits very well. There is enough room on the palm and back of hands so that it doesn't restrict movement. It is comfortable when holding trekking poles or driving wheel without too much pressure on knuckle area. The fit on fingers are perfect for me, except that the thumbs are 1cm too long. My thumbs can only reach the end of gloves when I do a thumb up gesture. I don't think my activity involves the thumb up gesture at all. A walk outside at 4C temperature initially feels a bit cold on hands. After a while the blood circulation is more active my hands feel warm. Overall I like the gloves very much.\", 'This pair of gloves is not for very cold temperatures, but is of high quality build and should be able to handle most East Coast urban winter environments and outdoor activities.  If you need to use it for 20 F or lower temperatures with high wind chill factor, then you either need to use it with a pair of glove-sleeves/inner gloves or get a pair of heavier gloves. The stitching and seams are well executed.  The profile is slim and they do not feel bulky on my hands.  I can wear them with business and causal wears.  Index fingers on both gloves can operate smart phones and tablets.  Also, there is a micro fastex style buckle that can clip both gloves together. I highly recommend this pair of gloves.', 'I took the advice of all the reviews and ordered a size up from normal. Big mistake, these gloves for me like any other gloves this style i have bought. The gloves i ordered in large are baggy on my finger tips and i should have went with my normal medium size order. The gloves themselves are awesome and are great quality. The touch screen tips work as they say.', 'I had a pair of Columbia gloves from a few years back.  I lost one glove, so after looking around I ordered these.  On the advice of a couple of reviews, I ordered XL gloves instead of the L size I had.  WOW!!! the XL gloves are a little small.  My hands barely fit into them, but they do an they are better than other gloves I have seen.  If there was an XXL (or even XXXL) size, I would buy them instead.These gloves run REALLY SMALL.  Buy at least one size up or you will be wasting your time.', 'these gloves are just what i wanted.']\n"
     ]
    }
   ],
   "source": [
    "HEADERS = ({'User-Agent': \n",
    "\t\t\t'Thunderclient', \n",
    "\t\t\t'Accept-Language': 'en-US, en;q=0.5'}) \n",
    "\n",
    "def getdata(url):\n",
    "\tr = requests.get(url, headers=HEADERS)\n",
    "\treturn r.text\n",
    "\n",
    "def html_code(url):\n",
    "\thtmldata = getdata(url)\n",
    "\tsoup = BeautifulSoup(htmldata, 'html.parser')\n",
    "\treturn (soup)\n",
    "\n",
    "def cus_rev(soup):\n",
    "    data_str = \"\" \n",
    "\n",
    "    for item in soup.find_all(\"div\", class_=\"a-expander-content reviewText review-text-content a-expander-partial-collapse-content\"):\n",
    "        data_str = data_str + item.get_text()\n",
    "\n",
    "    result = data_str.split(\"\\n\")\n",
    "    # remove empty strings from list\n",
    "    result = list(filter(None, result))\n",
    "    return result\n",
    "\n",
    "url = \"https://www.amazon.in/Columbia-Mens-wind-resistant-Glove/dp/B0772WVHPS/\" \n",
    "\n",
    "soup = html_code(url)\n",
    "cus_res = cus_rev(soup)\n",
    "print(cus_res)\n"
   ]
  }
 ],
 "metadata": {
  "kernelspec": {
   "display_name": "Python 3",
   "language": "python",
   "name": "python3"
  },
  "language_info": {
   "codemirror_mode": {
    "name": "ipython",
    "version": 3
   },
   "file_extension": ".py",
   "mimetype": "text/x-python",
   "name": "python",
   "nbconvert_exporter": "python",
   "pygments_lexer": "ipython3",
   "version": "3.10.13"
  }
 },
 "nbformat": 4,
 "nbformat_minor": 2
}
